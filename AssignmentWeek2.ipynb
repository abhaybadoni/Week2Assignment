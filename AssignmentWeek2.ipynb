{
 "cells": [
  {
   "cell_type": "code",
   "execution_count": 1,
   "id": "0b064bfc-0efa-4e61-a197-525c72752ed7",
   "metadata": {},
   "outputs": [
    {
     "data": {
      "text/plain": [
       "'This\\nis \\na Multiline \\nComment '"
      ]
     },
     "execution_count": 1,
     "metadata": {},
     "output_type": "execute_result"
    }
   ],
   "source": [
    "#Q1- \n",
    "# We use # and \"\"\" to comment in python\n",
    "# There are two ways to comment in python \n",
    "# 1- Single Line Comment - we use # before comment\n",
    "# eg.-\n",
    "#It is a Comment\n",
    "# 2. Multiline comment - we use \"\"\" to use multiline comment\n",
    "# eg.-\n",
    "\"\"\"This\n",
    "is \n",
    "a Multiline \n",
    "Comment \"\"\"\n"
   ]
  },
  {
   "cell_type": "code",
   "execution_count": 2,
   "id": "60b41261-fbd4-4fef-9e64-15ec6fefdb95",
   "metadata": {},
   "outputs": [
    {
     "name": "stdout",
     "output_type": "stream",
     "text": [
      "Abhay Badoni 21\n"
     ]
    }
   ],
   "source": [
    "#Q2-\n",
    "# Variables are used to store the data, we can refer the data or value of variable by refering its name.\n",
    "# We declare it just by giving a name to it, and assign the value by using assignment operator(=).\n",
    "#eg.-\n",
    "name=\"Abhay Badoni\"\n",
    "age=21\n",
    "print(name , age)"
   ]
  },
  {
   "cell_type": "code",
   "execution_count": 3,
   "id": "4fed3541-c9b5-4641-bfe6-2cd2cfc7e763",
   "metadata": {},
   "outputs": [
    {
     "name": "stdout",
     "output_type": "stream",
     "text": [
      "17 13.36 True ['H', 'e', 'l', 'l', 'o', ' ', 'W', 'o', 'r', 'l', 'd', '!'] (2, 5, 6)\n"
     ]
    }
   ],
   "source": [
    "#Q3-\n",
    "# We use type casting to convert one datatype to another, we have type conversion function for it\n",
    "#eg.-\n",
    "num= int(\"17\") #String to integer\n",
    "string= str(13.36) #float to string\n",
    "flag= bool(1) #integer to boolean\n",
    "my_list= list(\"Hello World!\") #string to list\n",
    "my_tuple=tuple([2,5,6]) #list to tuple\n",
    "# etc. are some type conversion functions example.\n",
    "print(num, string, flag, my_list, my_tuple)"
   ]
  },
  {
   "cell_type": "code",
   "execution_count": 4,
   "id": "3c5620e6-deac-4593-9c38-5aaf8ff06214",
   "metadata": {},
   "outputs": [],
   "source": [
    "#Q4-\n",
    "# We write python script in text editor and then save this file with '.py' extension.\n",
    "# To run the created python file, we have to open command line terminal at the location, where our file is saved.\n",
    "# Then we have to write ' pyhton [file_name] ' command in this syntax format in the command line, then program start running."
   ]
  },
  {
   "cell_type": "code",
   "execution_count": 6,
   "id": "13302ac6-1ee1-4fa8-b04c-5a6ba87dfa73",
   "metadata": {},
   "outputs": [
    {
     "name": "stdout",
     "output_type": "stream",
     "text": [
      "[2, 3]\n"
     ]
    }
   ],
   "source": [
    "#Q5-\n",
    "my_list = [1,2,3,4,5]\n",
    "sub_list = my_list[1:3]\n",
    "print(sub_list)"
   ]
  },
  {
   "cell_type": "code",
   "execution_count": 9,
   "id": "3f21398b-f677-4d85-b64f-93e4fddcd62a",
   "metadata": {},
   "outputs": [
    {
     "name": "stdout",
     "output_type": "stream",
     "text": [
      "(3+4j) <class 'complex'>\n",
      "(3+4j) <class 'complex'>\n"
     ]
    }
   ],
   "source": [
    "#Q6- \n",
    "\"\"\"In mathematic complex no.s are the no.s comprises of two parts ' real part' and 'imaginary part', it is \n",
    "denoted in form 'a + bi' where 'a' is the 'real part' and 'b' is the 'imaginary part' and i is the imaginary unit, defined\n",
    "as sqrt(-1) \"\"\"\n",
    "comp= 3 + 4j\n",
    "compl= complex(3,4)\n",
    "print(comp, type(comp))\n",
    "print(compl, type(compl))"
   ]
  },
  {
   "cell_type": "code",
   "execution_count": 10,
   "id": "9a24a6d3-1433-4ee7-8996-2faecba07b57",
   "metadata": {},
   "outputs": [
    {
     "name": "stdout",
     "output_type": "stream",
     "text": [
      "25\n"
     ]
    }
   ],
   "source": [
    "#Q7-\n",
    "age = 25\n",
    "print(age)"
   ]
  },
  {
   "cell_type": "code",
   "execution_count": 11,
   "id": "60ca4ec1-a587-4d1b-a579-60e8adb56920",
   "metadata": {},
   "outputs": [
    {
     "data": {
      "text/plain": [
       "float"
      ]
     },
     "execution_count": 11,
     "metadata": {},
     "output_type": "execute_result"
    }
   ],
   "source": [
    "#Q8-\n",
    "price = 9.99\n",
    "type(price)\n",
    "#it is of 'float' data type"
   ]
  },
  {
   "cell_type": "code",
   "execution_count": 12,
   "id": "5daa9d3f-a700-4d75-a09b-64cdc12ea777",
   "metadata": {},
   "outputs": [
    {
     "name": "stdout",
     "output_type": "stream",
     "text": [
      "Abhay Badoni\n"
     ]
    }
   ],
   "source": [
    "#Q9-\n",
    "name= \"Abhay Badoni\"\n",
    "print(name)"
   ]
  },
  {
   "cell_type": "code",
   "execution_count": 13,
   "id": "687e548c-5e3b-4754-a915-f362f90445fc",
   "metadata": {},
   "outputs": [
    {
     "name": "stdout",
     "output_type": "stream",
     "text": [
      "World\n"
     ]
    }
   ],
   "source": [
    "#Q10-\n",
    "s=\"Hello, World!\"\n",
    "ext= s[7:12]\n",
    "print(ext)"
   ]
  },
  {
   "cell_type": "code",
   "execution_count": 14,
   "id": "4607e518-1407-4f7e-a2f0-485824e96053",
   "metadata": {},
   "outputs": [
    {
     "name": "stdout",
     "output_type": "stream",
     "text": [
      " You are currently a student\n"
     ]
    }
   ],
   "source": [
    "#Q11-\n",
    "is_student = True\n",
    "if(is_student):\n",
    "    print(\" You are currently a student\")\n",
    "else:\n",
    "    print(\"You are currently not a student\")"
   ]
  },
  {
   "cell_type": "code",
   "execution_count": null,
   "id": "ef74aad5-b61b-4eca-a575-47b1fd9f2f2a",
   "metadata": {},
   "outputs": [],
   "source": []
  }
 ],
 "metadata": {
  "kernelspec": {
   "display_name": "Python 3 (ipykernel)",
   "language": "python",
   "name": "python3"
  },
  "language_info": {
   "codemirror_mode": {
    "name": "ipython",
    "version": 3
   },
   "file_extension": ".py",
   "mimetype": "text/x-python",
   "name": "python",
   "nbconvert_exporter": "python",
   "pygments_lexer": "ipython3",
   "version": "3.10.8"
  }
 },
 "nbformat": 4,
 "nbformat_minor": 5
}
